{
 "cells": [
  {
   "cell_type": "code",
   "execution_count": 170,
   "id": "a2528f79-e801-4e7f-8b2e-297d9f12a265",
   "metadata": {},
   "outputs": [],
   "source": [
    "import sqlite3\n",
    "import pandas as pd\n",
    "import matplotlib.pyplot as plt"
   ]
  },
  {
   "cell_type": "code",
   "execution_count": 171,
   "id": "e70ddc81-7717-427d-b2f4-066c559c5f50",
   "metadata": {},
   "outputs": [],
   "source": [
    "conn = sqlite3.connect('student_grades.db')\n",
    "cursor = conn.cursor()"
   ]
  },
  {
   "cell_type": "code",
   "execution_count": 172,
   "id": "39044546-6798-4e72-bb9b-441e8e48423e",
   "metadata": {},
   "outputs": [],
   "source": [
    "cursor.execute('''\n",
    "CREATE TABLE IF NOT EXISTS students (\n",
    "  student_id INTEGER PRIMARY KEY AUTOINCREMENT,\n",
    "  first_name TEXT,\n",
    "  last_name TEXT\n",
    ")\n",
    "''')\n",
    "conn.commit()"
   ]
  },
  {
   "cell_type": "code",
   "execution_count": 173,
   "id": "ebe3f797-61ae-4bdd-a8e6-51f18c8fc57d",
   "metadata": {},
   "outputs": [],
   "source": [
    "cursor.execute('''\n",
    "CREATE TABLE IF NOT EXISTS grades (\n",
    "  grade_id INTEGER PRIMARY KEY AUTOINCREMENT,\n",
    "  student_id INTEGER,\n",
    "  subject TEXT,\n",
    "  grade INTEGER,\n",
    "  FOREIGN KEY(student_id) REFERENCES students(student_id)\n",
    ")\n",
    "''')\n",
    "conn.commit()"
   ]
  },
  {
   "cell_type": "code",
   "execution_count": 174,
   "id": "73eba558-fa11-4787-a751-21de37fc3336",
   "metadata": {},
   "outputs": [],
   "source": [
    "students = [\n",
    "  ('Alice', 'Johnson'),\n",
    "  ('Bob', 'Smith'),\n",
    "  ('Carol', 'White'),\n",
    "  ('David', 'Brown'),\n",
    "  ('Eve', 'Davis'),\n",
    "    ('David', 'Nu Nu')\n",
    "]\n",
    "cursor.executemany('INSERT INTO students (first_name, last_name) VALUES (?, ?)', students)\n",
    "conn.commit()\n"
   ]
  },
  {
   "cell_type": "code",
   "execution_count": 175,
   "id": "09316ad5-8f6f-4496-89bb-de04bfe06779",
   "metadata": {},
   "outputs": [],
   "source": [
    "grades = [\n",
    "  (1, 'Math', 95),\n",
    "  (1, 'English', 88),\n",
    "  (1, 'History', 90),\n",
    "  (2, 'Math', 82),\n",
    "  (2, 'English', 76),\n",
    "  (2, 'History', 85),\n",
    "]\n",
    "cursor.executemany('INSERT INTO grades (student_id, subject, grade) VALUES (?, ?, ?)', grades)\n",
    "conn.commit()\n"
   ]
  },
  {
   "cell_type": "code",
   "execution_count": 176,
   "id": "41af1ca5-df2f-4ab4-93e2-4855f37ead94",
   "metadata": {},
   "outputs": [
    {
     "data": {
      "text/html": [
       "<div>\n",
       "<style scoped>\n",
       "    .dataframe tbody tr th:only-of-type {\n",
       "        vertical-align: middle;\n",
       "    }\n",
       "\n",
       "    .dataframe tbody tr th {\n",
       "        vertical-align: top;\n",
       "    }\n",
       "\n",
       "    .dataframe thead th {\n",
       "        text-align: right;\n",
       "    }\n",
       "</style>\n",
       "<table border=\"1\" class=\"dataframe\">\n",
       "  <thead>\n",
       "    <tr style=\"text-align: right;\">\n",
       "      <th></th>\n",
       "      <th>student_id</th>\n",
       "      <th>first_name</th>\n",
       "      <th>last_name</th>\n",
       "    </tr>\n",
       "  </thead>\n",
       "  <tbody>\n",
       "    <tr>\n",
       "      <th>0</th>\n",
       "      <td>1</td>\n",
       "      <td>Alice</td>\n",
       "      <td>Johnson</td>\n",
       "    </tr>\n",
       "    <tr>\n",
       "      <th>1</th>\n",
       "      <td>2</td>\n",
       "      <td>Bob</td>\n",
       "      <td>Smith</td>\n",
       "    </tr>\n",
       "    <tr>\n",
       "      <th>2</th>\n",
       "      <td>3</td>\n",
       "      <td>Carol</td>\n",
       "      <td>White</td>\n",
       "    </tr>\n",
       "    <tr>\n",
       "      <th>3</th>\n",
       "      <td>4</td>\n",
       "      <td>David</td>\n",
       "      <td>Brown</td>\n",
       "    </tr>\n",
       "    <tr>\n",
       "      <th>4</th>\n",
       "      <td>5</td>\n",
       "      <td>Eve</td>\n",
       "      <td>Davis</td>\n",
       "    </tr>\n",
       "    <tr>\n",
       "      <th>...</th>\n",
       "      <td>...</td>\n",
       "      <td>...</td>\n",
       "      <td>...</td>\n",
       "    </tr>\n",
       "    <tr>\n",
       "      <th>60</th>\n",
       "      <td>61</td>\n",
       "      <td>Bob</td>\n",
       "      <td>Smith</td>\n",
       "    </tr>\n",
       "    <tr>\n",
       "      <th>61</th>\n",
       "      <td>62</td>\n",
       "      <td>Carol</td>\n",
       "      <td>White</td>\n",
       "    </tr>\n",
       "    <tr>\n",
       "      <th>62</th>\n",
       "      <td>63</td>\n",
       "      <td>David</td>\n",
       "      <td>Brown</td>\n",
       "    </tr>\n",
       "    <tr>\n",
       "      <th>63</th>\n",
       "      <td>64</td>\n",
       "      <td>Eve</td>\n",
       "      <td>Davis</td>\n",
       "    </tr>\n",
       "    <tr>\n",
       "      <th>64</th>\n",
       "      <td>65</td>\n",
       "      <td>David</td>\n",
       "      <td>Nu Nu</td>\n",
       "    </tr>\n",
       "  </tbody>\n",
       "</table>\n",
       "<p>65 rows × 3 columns</p>\n",
       "</div>"
      ],
      "text/plain": [
       "    student_id first_name last_name\n",
       "0            1      Alice   Johnson\n",
       "1            2        Bob     Smith\n",
       "2            3      Carol     White\n",
       "3            4      David     Brown\n",
       "4            5        Eve     Davis\n",
       "..         ...        ...       ...\n",
       "60          61        Bob     Smith\n",
       "61          62      Carol     White\n",
       "62          63      David     Brown\n",
       "63          64        Eve     Davis\n",
       "64          65      David     Nu Nu\n",
       "\n",
       "[65 rows x 3 columns]"
      ]
     },
     "execution_count": 176,
     "metadata": {},
     "output_type": "execute_result"
    }
   ],
   "source": [
    "pd.read_sql_query(\"SELECT * FROM students\", conn) #Checking to see if it repeats the students, and give display\n"
   ]
  },
  {
   "cell_type": "code",
   "execution_count": 205,
   "id": "a5c543dc-7f0c-4f99-b239-83d847860f64",
   "metadata": {},
   "outputs": [
    {
     "name": "stdout",
     "output_type": "stream",
     "text": [
      "   first_name last_name  subject  grade\n",
      "0       Alice   Johnson     Math     95\n",
      "1       Alice   Johnson  English     88\n",
      "2       Alice   Johnson  History     90\n",
      "3         Bob     Smith     Math     82\n",
      "4         Bob     Smith  English     76\n",
      "..        ...       ...      ...    ...\n",
      "61      Alice   Johnson  English     88\n",
      "62      Alice   Johnson  History     90\n",
      "63        Bob     Smith     Math     82\n",
      "64        Bob     Smith  English     76\n",
      "65        Bob     Smith  History     85\n",
      "\n",
      "[66 rows x 4 columns]\n"
     ]
    }
   ],
   "source": [
    "students_grades_query = '''\n",
    "SELECT s.first_name, s.last_name, g.subject, g.grade\n",
    "FROM students s\n",
    "JOIN grades g ON s.student_id = g.student_id\n",
    "'''\n",
    "df_students_grades = pd.read_sql_query(students_grades_query, conn) #I'm just gonna do \"pd.\" or PANDA everytime instead to keep track if code works or not\n",
    "print(df_students_grades)"
   ]
  },
  {
   "cell_type": "code",
   "execution_count": 178,
   "id": "d9644dd7-b85a-4ead-af66-24528d787323",
   "metadata": {},
   "outputs": [
    {
     "name": "stdout",
     "output_type": "stream",
     "text": [
      "  first_name last_name  average_grade\n",
      "0      Alice   Johnson           91.0\n",
      "1        Bob     Smith           81.0\n"
     ]
    }
   ],
   "source": [
    "average_grade_per_student_query = '''\n",
    "SELECT s.first_name, s.last_name, AVG(g.grade) AS average_grade\n",
    "FROM students s\n",
    "JOIN grades g ON s.student_id = g.student_id\n",
    "GROUP BY s.student_id\n",
    "'''\n",
    "df_average_grades = pd.read_sql_query(average_grade_per_student_query, conn)\n",
    "print(df_average_grades)"
   ]
  },
  {
   "cell_type": "code",
   "execution_count": 179,
   "id": "eaab6565-2e3c-4edf-a32c-823547d55ea9",
   "metadata": {},
   "outputs": [
    {
     "name": "stdout",
     "output_type": "stream",
     "text": [
      "  first_name last_name  average_grade\n",
      "0      Alice   Johnson           91.0\n"
     ]
    }
   ],
   "source": [
    "highest_average_grade_student_query = '''\n",
    "SELECT s.first_name, s.last_name, AVG(g.grade) AS average_grade\n",
    "FROM students s\n",
    "JOIN grades g ON s.student_id = g.student_id\n",
    "GROUP BY s.student_id\n",
    "ORDER BY average_grade DESC\n",
    "LIMIT 1\n",
    "'''\n",
    "highest_avg_grade_student = pd.read_sql_query(highest_average_grade_student_query, conn)\n",
    "print(highest_avg_grade_student)"
   ]
  },
  {
   "cell_type": "code",
   "execution_count": 180,
   "id": "706593b1-122f-48e3-9efe-b2e89c0b6688",
   "metadata": {},
   "outputs": [
    {
     "name": "stdout",
     "output_type": "stream",
     "text": [
      "   average_grade_math\n",
      "0                88.5\n"
     ]
    }
   ],
   "source": [
    "average_grade_math_query = '''\n",
    "SELECT AVG(grade) AS average_grade_math\n",
    "FROM grades\n",
    "WHERE subject = 'Math'\n",
    "'''\n",
    "average_grade_math = pd.read_sql_query(average_grade_math_query, conn)\n",
    "print(average_grade_math)\n"
   ]
  },
  {
   "cell_type": "code",
   "execution_count": 181,
   "id": "03b0fd8e-864b-46d8-94e8-7636af660a96",
   "metadata": {},
   "outputs": [
    {
     "name": "stdout",
     "output_type": "stream",
     "text": [
      "  first_name last_name\n",
      "0      Alice   Johnson\n"
     ]
    }
   ],
   "source": [
    "students_scoring_above_90_query = '''\n",
    "SELECT DISTINCT s.first_name, s.last_name\n",
    "FROM students s\n",
    "JOIN grades g ON s.student_id = g.student_id\n",
    "WHERE g.grade > 90\n",
    "'''\n",
    "students_above_90 = pd.read_sql_query(students_scoring_above_90_query, conn)\n",
    "print(students_above_90)"
   ]
  },
  {
   "cell_type": "code",
   "execution_count": 207,
   "id": "29340774-cad5-4198-913e-1733c3dd3ade",
   "metadata": {},
   "outputs": [
    {
     "data": {
      "image/png": "[encoded data removed]",
      "text/plain": [
       "<Figure size 640x480 with 1 Axes>"
      ]
     },
     "metadata": {},
     "output_type": "display_data"
    }
   ],
   "source": [
    "#https://www.tutorialspoint.com/jupyter/jupyter_notebook_plotting.htm \n",
    "#plt as Matplotlib\n",
    "plt.bar(df_average_grades['first_name'] + ' ' + df_average_grades['last_name'], df_average_grades['average_grade'])\n",
    "plt.xlabel('Student')\n",
    "plt.ylabel('Average Grade')\n",
    "plt.title('Average Grades per Student')\n",
    "plt.xticks(rotation=45)\n",
    "plt.show()"
   ]
  },
  {
   "cell_type": "code",
   "execution_count": 203,
   "id": "dd380067-22d7-42f8-b12f-8e30b8b576a9",
   "metadata": {},
   "outputs": [
    {
     "data": {
      "image/png": "[encoded data removed]",
      "text/plain": [
       "<Figure size 640x480 with 1 Axes>"
      ]
     },
     "metadata": {},
     "output_type": "display_data"
    }
   ],
   "source": [
    "average_grade_math.plot(kind='bar', title='Average Grade in Math')\n",
    "plt.xlabel('Math')\n",
    "plt.ylabel('Average Grade')\n",
    "plt.show()\n",
    "#https://www.tutorialspoint.com/jupyter/jupyter_notebook_plotting.htm"
   ]
  },
  {
   "cell_type": "code",
   "execution_count": null,
   "id": "e618d203-50e4-4e2e-a732-af4fd6a67066",
   "metadata": {},
   "outputs": [],
   "source": []
  }
 ],
 "metadata": {
  "kernelspec": {
   "display_name": "Python 3 (ipykernel)",
   "language": "python",
   "name": "python3"
  },
  "language_info": {
   "codemirror_mode": {
    "name": "ipython",
    "version": 3
   },
   "file_extension": ".py",
   "mimetype": "text/x-python",
   "name": "python",
   "nbconvert_exporter": "python",
   "pygments_lexer": "ipython3",
   "version": "3.12.4"
  }
 },
 "nbformat": 4,
 "nbformat_minor": 5
}
