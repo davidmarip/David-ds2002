{
 "cells": [
  {
   "cell_type": "code",
   "execution_count": 177,
   "id": "12b12efd-b8b6-4afe-981b-293bc44a64c8",
   "metadata": {},
   "outputs": [],
   "source": [
    "import requests\n",
    "import pandas as pd\n",
    "import json\n",
    "import matplotlib.pyplot as plt"
   ]
  },
  {
   "cell_type": "code",
   "execution_count": 191,
   "id": "4966d2a3-bf9d-4427-92ed-7b6d6e710803",
   "metadata": {},
   "outputs": [
    {
     "name": "stdin",
     "output_type": "stream",
     "text": [
      "Enter stock ticker symbol:  MSFT\n"
     ]
    },
    {
     "name": "stdout",
     "output_type": "stream",
     "text": [
      "Let's look into: MSFT\n"
     ]
    }
   ],
   "source": [
    "api_key = 'INCLUDE YOUR API KEY HERE' #I DELETED MINE, SHOULD WORK THE SAME IF YOU PUT YOURS\n",
    "ticker = input(\"Enter stock ticker symbol: \").upper()\n",
    "print(f\"Let's look into: {ticker}\")"
   ]
  },
  {
   "cell_type": "code",
   "execution_count": 195,
   "id": "523b4942-7ea9-4b68-ae05-163437351a5f",
   "metadata": {},
   "outputs": [],
   "source": [
    "def get_stock_data(ticker):\n",
    "    url = quote_url\n",
    "    headers = {'accept': 'application/json', 'X-API-KEY': api_key}\n",
    "    querystring = {\"symbols\": ticker}\n",
    "    \n",
    "    response = requests.get(url, headers=headers, params=querystring)\n",
    "    \n",
    "    if response.status_code == 200:\n",
    "        stock_json = response.json()\n",
    "        \n",
    "        if stock_json.get('quoteResponse') and stock_json['quoteResponse']['result']:\n",
    "            stock_info = stock_json['quoteResponse']['result'][0]\n",
    "            \n",
    "            stock_data = {\n",
    "                'Ticker': stock_info.get('symbol', 'N/A'),\n",
    "                'Full Name': stock_info.get('longName', 'N/A'),\n",
    "                'Current Price': stock_info.get('regularMarketPrice', 'N/A'),\n",
    "                '52 Week High': stock_info.get('fiftyTwoWeekHigh', 'N/A'),\n",
    "                '52 Week Low': stock_info.get('fiftyTwoWeekLow', 'N/A')\n",
    "            }\n",
    "            return stock_data\n",
    "        else:\n",
    "            print(\"No stock data available for the given symbol.\")\n",
    "            return None\n",
    "    else:\n",
    "        print(f\"Failed to fetch data. Status code: {response.status_code}\")\n",
    "        return None\n"
   ]
  },
  {
   "cell_type": "code",
   "execution_count": 193,
   "id": "5f366f00-8aeb-4a2d-ac4f-9028e3050dc8",
   "metadata": {},
   "outputs": [],
   "source": [
    "def get_target_mean_price(ticker):\n",
    "    financial_url = f'https://yfapi.net/v11/finance/quoteSummary/{ticker}' #NEW URL TO CALCULATE THE MEAN PRICE\n",
    "    headers = {'accept': 'application/json', 'X-API-KEY': api_key}\n",
    "    params = {'modules': 'financialData'}\n",
    "\n",
    "    response = requests.get(financial_url, headers=headers, params=params)\n",
    "    \n",
    "    if response.status_code == 200:\n",
    "        financial_json = response.json()\n",
    "\n",
    "        if financial_json.get('quoteSummary') and financial_json['quoteSummary']['result']:\n",
    "            financial_info = financial_json['quoteSummary']['result'][0].get('financialData', {})\n",
    "            target_mean_price = financial_info.get('targetMeanPrice', {}).get('raw', 'N/A')\n",
    "            return target_mean_price\n",
    "        else:\n",
    "            print(\"No financial data available for the given symbol.\")\n",
    "            return 'N/A'\n",
    "    else:\n",
    "        print(f\"Failed to fetch financial data. Status code: {response.status_code}\")\n",
    "        return 'N/A'"
   ]
  },
  {
   "cell_type": "code",
   "execution_count": 197,
   "id": "2758b33f-ef17-4c4f-86c7-d00446a3e6ae",
   "metadata": {},
   "outputs": [
    {
     "name": "stdout",
     "output_type": "stream",
     "text": [
      "Failed to fetch data. Status code: 403\n"
     ]
    }
   ],
   "source": [
    "stock_info = get_stock_data(ticker)\n",
    "\n",
    "if stock_info:\n",
    "    target_mean_price = get_target_mean_price(ticker)  # CALL TARGET MEAN PRICE\n",
    "    stock_info['Target Mean Price'] = target_mean_price  #JUST COMBNNED IT\n",
    "\n",
    "    print(\"\\nStock Information:\")\n",
    "    for key, value in stock_info.items():\n",
    "        print(f\"{key}: {value}\")\n",
    "    \n",
    "    df = pd.DataFrame([stock_info])\n",
    "    df.to_csv(f\"{ticker}_stock_info.csv\", index=False)\n",
    "    print(f\"\\nData saved to {ticker}_stock_info.csv\")"
   ]
  },
  {
   "cell_type": "code",
   "execution_count": 187,
   "id": "cc041d8b-04aa-4631-a621-9b5a4340064c",
   "metadata": {},
   "outputs": [
    {
     "name": "stdout",
     "output_type": "stream",
     "text": [
      "\n",
      "Trending Stocks:\n",
      "^N225\n",
      "NQ=F\n",
      "9866.HK\n",
      "9988.HK\n",
      "^HSI\n"
     ]
    }
   ],
   "source": [
    "def get_trending_stocks():\n",
    "    trending_url = 'https://yfapi.net/v1/finance/trending/US'\n",
    "    headers = {'accept': 'application/json', 'X-API-KEY': api_key}\n",
    "\n",
    "    response = requests.get(trending_url, headers=headers)\n",
    "\n",
    "    if response.status_code == 200:\n",
    "        data = response.json()\n",
    "        trending = data.get('finance', {}).get('result', [])[0].get('quotes', [])\n",
    "        return [stock.get('symbol') for stock in trending][:5]\n",
    "    else:\n",
    "        print(f\"Error fetching trending stocks: {response.status_code}\")\n",
    "        return []\n",
    "\n",
    "trending_stocks = get_trending_stocks()\n",
    "if trending_stocks:\n",
    "    print(\"\\nTrending Stocks:\")\n",
    "    for stock in trending_stocks:\n",
    "        print(stock)\n"
   ]
  },
  {
   "cell_type": "code",
   "execution_count": 189,
   "id": "037eb06d-0d41-4e88-99b9-3768c6e30fec",
   "metadata": {},
   "outputs": [
    {
     "data": {
      "image/png": "[encoded data removed]",
      "text/plain": [
       "<Figure size 1000x600 with 1 Axes>"
      ]
     },
     "metadata": {},
     "output_type": "display_data"
    }
   ],
   "source": [
    "def get_historical_data(ticker):\n",
    "    history_url = f'https://yfapi.net/v8/finance/chart/{ticker}'\n",
    "    headers = {'accept': 'application/json', 'X-API-KEY': api_key}\n",
    "    params = {'range': '5d', 'interval': '1d'}\n",
    "\n",
    "    response = requests.get(history_url, headers=headers, params=params)\n",
    "\n",
    "    if response.status_code == 200:\n",
    "        data = response.json()\n",
    "        timestamps = data['chart']['result'][0]['timestamp']\n",
    "        prices = data['chart']['result'][0]['indicators']['quote'][0]['high']\n",
    "\n",
    "        # Convert timestamps to human-readable dates\n",
    "        dates = pd.to_datetime(timestamps, unit='s')\n",
    "        return pd.DataFrame({'Date': dates, 'High Price': prices})\n",
    "    else:\n",
    "        print(f\"Error fetching historical data for {ticker}: {response.status_code}\")\n",
    "        return None\n",
    "\n",
    "historical_data = get_historical_data(ticker)\n",
    "if historical_data is not None:\n",
    "    plt.figure(figsize=(10, 6))\n",
    "    plt.plot(historical_data['Date'], historical_data['High Price'], marker='o', linestyle='-', color='b')\n",
    "    plt.title(f'{ticker} - 5 Day High Prices')\n",
    "    plt.xlabel('Date')\n",
    "    plt.ylabel('High Price')\n",
    "    plt.grid(True)\n",
    "    plt.show()\n"
   ]
  },
  {
   "cell_type": "code",
   "execution_count": null,
   "id": "7c92c3ab-dad0-4528-8ab1-b7c3007417a4",
   "metadata": {},
   "outputs": [],
   "source": []
  }
 ],
 "metadata": {
  "kernelspec": {
   "display_name": "Python 3 (ipykernel)",
   "language": "python",
   "name": "python3"
  },
  "language_info": {
   "codemirror_mode": {
    "name": "ipython",
    "version": 3
   },
   "file_extension": ".py",
   "mimetype": "text/x-python",
   "name": "python",
   "nbconvert_exporter": "python",
   "pygments_lexer": "ipython3",
   "version": "3.12.4"
  }
 },
 "nbformat": 4,
 "nbformat_minor": 5
}
